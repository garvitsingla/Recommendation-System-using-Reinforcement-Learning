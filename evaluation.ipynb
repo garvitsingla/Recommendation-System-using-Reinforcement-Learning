{
 "cells": [
  {
   "cell_type": "code",
   "execution_count": 1,
   "metadata": {
    "colab": {},
    "colab_type": "code",
    "id": "r1NmejTIFPtf"
   },
   "outputs": [],
   "source": [
    "#Dependencies\n",
    "import pandas as pd\n",
    "import numpy as np\n",
    "import tensorflow as tf\n",
    "import itertools\n",
    "import matplotlib.pyplot as plt\n",
    "import time\n",
    "\n",
    "from envs import OfflineEnv\n",
    "from recommender import DRRAgent\n",
    "\n",
    "import os\n",
    "\n",
    "ROOT_DIR = os.getcwd()\n",
    "DATA_DIR = os.path.join(ROOT_DIR, 'ml-1m/')\n",
    "STATE_SIZE = 10"
   ]
  },
  {
   "cell_type": "markdown",
   "metadata": {},
   "source": [
    "#  Check Data"
   ]
  },
  {
   "cell_type": "code",
   "execution_count": null,
   "metadata": {
    "colab": {},
    "colab_type": "code",
    "id": "b8aPaxXpNsz7",
    "scrolled": true
   },
   "outputs": [],
   "source": [
    "#Loading datasets\n",
    "ratings_list = pd.read_csv(r\"dataset_csv\\ratings.csv\")\n",
    "users_list = pd.read_csv(r\"dataset_csv\\users.csv\")\n",
    "movies_list = pd.read_csv(r\"dataset_csv\\movies.csv\")\n",
    "ratings_df = pd.DataFrame(ratings_list, columns = ['UserID', 'MovieID', 'Rating', 'Timestamp'])\n",
    "ratings_df = ratings_df.astype({\n",
    "    'UserID': np.uint32,\n",
    "    'MovieID': np.uint32,\n",
    "    'Rating': np.uint8,\n",
    "    'Timestamp': np.uint32}) \n",
    "movies_df = pd.DataFrame(movies_list, columns = ['MovieID', 'Title', 'Genres'])\n",
    "movies_df['MovieID'] = movies_df['MovieID'].apply(pd.to_numeric)"
   ]
  },
  {
   "cell_type": "code",
   "execution_count": 3,
   "metadata": {
    "scrolled": true
   },
   "outputs": [],
   "source": [
    "# moive id to movie title\n",
    "movies_id_to_movies = {movie[0]: movie[1:] for movie in movies_list}"
   ]
  },
  {
   "cell_type": "code",
   "execution_count": 4,
   "metadata": {},
   "outputs": [
    {
     "data": {
      "text/plain": [
       "3883"
      ]
     },
     "execution_count": 4,
     "metadata": {},
     "output_type": "execute_result"
    }
   ],
   "source": [
    "# number of movies\n",
    "len(movies_list)"
   ]
  },
  {
   "cell_type": "code",
   "execution_count": 5,
   "metadata": {},
   "outputs": [
    {
     "data": {
      "text/html": [
       "<div>\n",
       "<style scoped>\n",
       "    .dataframe tbody tr th:only-of-type {\n",
       "        vertical-align: middle;\n",
       "    }\n",
       "\n",
       "    .dataframe tbody tr th {\n",
       "        vertical-align: top;\n",
       "    }\n",
       "\n",
       "    .dataframe thead th {\n",
       "        text-align: right;\n",
       "    }\n",
       "</style>\n",
       "<table border=\"1\" class=\"dataframe\">\n",
       "  <thead>\n",
       "    <tr style=\"text-align: right;\">\n",
       "      <th></th>\n",
       "      <th>UserID</th>\n",
       "      <th>MovieID</th>\n",
       "      <th>Rating</th>\n",
       "      <th>Timestamp</th>\n",
       "    </tr>\n",
       "  </thead>\n",
       "  <tbody>\n",
       "    <tr>\n",
       "      <th>0</th>\n",
       "      <td>1</td>\n",
       "      <td>1193</td>\n",
       "      <td>5</td>\n",
       "      <td>978300760</td>\n",
       "    </tr>\n",
       "    <tr>\n",
       "      <th>1</th>\n",
       "      <td>1</td>\n",
       "      <td>661</td>\n",
       "      <td>3</td>\n",
       "      <td>978302109</td>\n",
       "    </tr>\n",
       "    <tr>\n",
       "      <th>2</th>\n",
       "      <td>1</td>\n",
       "      <td>914</td>\n",
       "      <td>3</td>\n",
       "      <td>978301968</td>\n",
       "    </tr>\n",
       "    <tr>\n",
       "      <th>3</th>\n",
       "      <td>1</td>\n",
       "      <td>3408</td>\n",
       "      <td>4</td>\n",
       "      <td>978300275</td>\n",
       "    </tr>\n",
       "    <tr>\n",
       "      <th>4</th>\n",
       "      <td>1</td>\n",
       "      <td>2355</td>\n",
       "      <td>5</td>\n",
       "      <td>978824291</td>\n",
       "    </tr>\n",
       "  </tbody>\n",
       "</table>\n",
       "</div>"
      ],
      "text/plain": [
       "   UserID  MovieID  Rating  Timestamp\n",
       "0       1     1193       5  978300760\n",
       "1       1      661       3  978302109\n",
       "2       1      914       3  978301968\n",
       "3       1     3408       4  978300275\n",
       "4       1     2355       5  978824291"
      ]
     },
     "execution_count": 5,
     "metadata": {},
     "output_type": "execute_result"
    }
   ],
   "source": [
    "# check the ratings\n",
    "ratings_df.head(5)"
   ]
  },
  {
   "cell_type": "code",
   "execution_count": 6,
   "metadata": {},
   "outputs": [
    {
     "data": {
      "image/png": "[encoded data removed]",
      "text/plain": [
       "<Figure size 2000x1000 with 1 Axes>"
      ]
     },
     "metadata": {},
     "output_type": "display_data"
    }
   ],
   "source": [
    "# check the distribution of movies choosen by user\n",
    "plt.figure(figsize=(20,10))\n",
    "plt.hist(ratings_df[\"MovieID\"], bins=100)\n",
    "plt.show()"
   ]
  },
  {
   "cell_type": "code",
   "execution_count": 7,
   "metadata": {},
   "outputs": [
    {
     "data": {
      "text/plain": [
       "UserID       0\n",
       "MovieID      0\n",
       "Rating       0\n",
       "Timestamp    0\n",
       "dtype: int64"
      ]
     },
     "execution_count": 7,
     "metadata": {},
     "output_type": "execute_result"
    }
   ],
   "source": [
    "# check null\n",
    "ratings_df.isnull().sum()"
   ]
  },
  {
   "cell_type": "code",
   "execution_count": 8,
   "metadata": {
    "scrolled": true
   },
   "outputs": [
    {
     "name": "stdout",
     "output_type": "stream",
     "text": [
      "True\n",
      "6040\n"
     ]
    }
   ],
   "source": [
    "# check the maximum value of UserID\n",
    "print(len(set(ratings_df[\"UserID\"])) == max([int(i) for i in set(ratings_df[\"UserID\"])]))\n",
    "print(max([int(i) for i in set(ratings_df[\"UserID\"])]))"
   ]
  },
  {
   "cell_type": "code",
   "execution_count": 9,
   "metadata": {},
   "outputs": [
    {
     "name": "stderr",
     "output_type": "stream",
     "text": [
      "C:\\Users\\garvi\\AppData\\Local\\Temp\\ipykernel_17296\\3532176190.py:2: FutureWarning: DataFrame.applymap has been deprecated. Use DataFrame.map instead.\n",
      "  ratings_df = ratings_df.applymap(int)\n"
     ]
    }
   ],
   "source": [
    "# make suer the ratings are integer\n",
    "ratings_df = ratings_df.applymap(int)"
   ]
  },
  {
   "cell_type": "code",
   "execution_count": 10,
   "metadata": {},
   "outputs": [
    {
     "data": {
      "text/plain": [
       "[]"
      ]
     },
     "execution_count": 10,
     "metadata": {},
     "output_type": "execute_result"
    }
   ],
   "source": [
    "# make the user dictionary which have a value as movies list the user watched\n",
    "users_dict = {user : [] for user in set(ratings_df[\"UserID\"])}\n",
    "users_dict[1]"
   ]
  },
  {
   "cell_type": "code",
   "execution_count": 11,
   "metadata": {},
   "outputs": [
    {
     "data": {
      "text/html": [
       "<div>\n",
       "<style scoped>\n",
       "    .dataframe tbody tr th:only-of-type {\n",
       "        vertical-align: middle;\n",
       "    }\n",
       "\n",
       "    .dataframe tbody tr th {\n",
       "        vertical-align: top;\n",
       "    }\n",
       "\n",
       "    .dataframe thead th {\n",
       "        text-align: right;\n",
       "    }\n",
       "</style>\n",
       "<table border=\"1\" class=\"dataframe\">\n",
       "  <thead>\n",
       "    <tr style=\"text-align: right;\">\n",
       "      <th></th>\n",
       "      <th>UserID</th>\n",
       "      <th>MovieID</th>\n",
       "      <th>Rating</th>\n",
       "      <th>Timestamp</th>\n",
       "    </tr>\n",
       "  </thead>\n",
       "  <tbody>\n",
       "    <tr>\n",
       "      <th>1000138</th>\n",
       "      <td>6040</td>\n",
       "      <td>858</td>\n",
       "      <td>4</td>\n",
       "      <td>956703932</td>\n",
       "    </tr>\n",
       "    <tr>\n",
       "      <th>999873</th>\n",
       "      <td>6040</td>\n",
       "      <td>593</td>\n",
       "      <td>5</td>\n",
       "      <td>956703954</td>\n",
       "    </tr>\n",
       "    <tr>\n",
       "      <th>1000153</th>\n",
       "      <td>6040</td>\n",
       "      <td>2384</td>\n",
       "      <td>4</td>\n",
       "      <td>956703954</td>\n",
       "    </tr>\n",
       "    <tr>\n",
       "      <th>1000007</th>\n",
       "      <td>6040</td>\n",
       "      <td>1961</td>\n",
       "      <td>4</td>\n",
       "      <td>956703977</td>\n",
       "    </tr>\n",
       "    <tr>\n",
       "      <th>1000192</th>\n",
       "      <td>6040</td>\n",
       "      <td>2019</td>\n",
       "      <td>5</td>\n",
       "      <td>956703977</td>\n",
       "    </tr>\n",
       "  </tbody>\n",
       "</table>\n",
       "</div>"
      ],
      "text/plain": [
       "         UserID  MovieID  Rating  Timestamp\n",
       "1000138    6040      858       4  956703932\n",
       "999873     6040      593       5  956703954\n",
       "1000153    6040     2384       4  956703954\n",
       "1000007    6040     1961       4  956703977\n",
       "1000192    6040     2019       5  956703977"
      ]
     },
     "execution_count": 11,
     "metadata": {},
     "output_type": "execute_result"
    }
   ],
   "source": [
    "# order the dataset by time\n",
    "ratings_df = ratings_df.sort_values(by='Timestamp', ascending=True)\n",
    "ratings_df.head(5)"
   ]
  },
  {
   "cell_type": "code",
   "execution_count": 12,
   "metadata": {},
   "outputs": [],
   "source": [
    "# add (movie, rating) pair to the user dictionary\n",
    "## add movie rated >= 4 only\n",
    "ratings_df_gen = ratings_df.iterrows()\n",
    "users_dict_for_history_len = {user : [] for user in set(ratings_df[\"UserID\"])}\n",
    "for data in ratings_df_gen:\n",
    "    users_dict[data[1]['UserID']].append((data[1]['MovieID'], data[1]['Rating']))\n",
    "    if data[1]['Rating'] >= 4:\n",
    "        users_dict_for_history_len[data[1]['UserID']].append((data[1]['MovieID'], data[1]['Rating']))"
   ]
  },
  {
   "cell_type": "code",
   "execution_count": 13,
   "metadata": {
    "scrolled": true
   },
   "outputs": [],
   "source": [
    "# the length of history for each user\n",
    "users_history_lens = [len(users_dict_for_history_len[u]) for u in set(ratings_df[\"UserID\"])]"
   ]
  },
  {
   "cell_type": "code",
   "execution_count": 14,
   "metadata": {},
   "outputs": [
    {
     "data": {
      "text/plain": [
       "6040"
      ]
     },
     "execution_count": 14,
     "metadata": {},
     "output_type": "execute_result"
    }
   ],
   "source": [
    "# check the length of above list\n",
    "len(users_history_lens)"
   ]
  },
  {
   "cell_type": "code",
   "execution_count": 15,
   "metadata": {
    "scrolled": true
   },
   "outputs": [
    {
     "data": {
      "text/plain": [
       "[(np.int64(3186), np.int64(4)),\n",
       " (np.int64(1022), np.int64(5)),\n",
       " (np.int64(1721), np.int64(4)),\n",
       " (np.int64(1270), np.int64(5)),\n",
       " (np.int64(2340), np.int64(3)),\n",
       " (np.int64(1836), np.int64(5)),\n",
       " (np.int64(3408), np.int64(4)),\n",
       " (np.int64(1207), np.int64(4)),\n",
       " (np.int64(2804), np.int64(5)),\n",
       " (np.int64(260), np.int64(4))]"
      ]
     },
     "execution_count": 15,
     "metadata": {},
     "output_type": "execute_result"
    }
   ],
   "source": [
    "# check the user dictionary\n",
    "users_dict[1][:10]"
   ]
  },
  {
   "cell_type": "code",
   "execution_count": 16,
   "metadata": {},
   "outputs": [],
   "source": [
    "# save each data as npy to save time for future evaluation\n",
    "np.save(\"./data/user_dict.npy\", users_dict)\n",
    "np.save(\"./data/users_histroy_len.npy\", users_history_lens)"
   ]
  },
  {
   "cell_type": "code",
   "execution_count": 17,
   "metadata": {},
   "outputs": [],
   "source": [
    "# get the number of users and items\n",
    "users_num = max(ratings_df[\"UserID\"])+1\n",
    "items_num = max(ratings_df[\"MovieID\"])+1"
   ]
  },
  {
   "cell_type": "code",
   "execution_count": 18,
   "metadata": {},
   "outputs": [
    {
     "name": "stdout",
     "output_type": "stream",
     "text": [
      "6041 3953\n"
     ]
    }
   ],
   "source": [
    "# check the following variables\n",
    "print(users_num, items_num)"
   ]
  },
  {
   "cell_type": "markdown",
   "metadata": {},
   "source": [
    "### setting for training dataset"
   ]
  },
  {
   "cell_type": "code",
   "execution_count": 19,
   "metadata": {},
   "outputs": [
    {
     "name": "stdout",
     "output_type": "stream",
     "text": [
      "4832 3953\n"
     ]
    }
   ],
   "source": [
    "train_users_num = int(users_num * 0.8)\n",
    "train_items_num = items_num\n",
    "print(train_users_num, train_items_num)"
   ]
  },
  {
   "cell_type": "code",
   "execution_count": 20,
   "metadata": {},
   "outputs": [
    {
     "name": "stdout",
     "output_type": "stream",
     "text": [
      "4832 4832\n"
     ]
    }
   ],
   "source": [
    "train_users_dict = {k:users_dict[k] for k in range(1, train_users_num+1)}\n",
    "train_users_history_lens = users_history_lens[:train_users_num]\n",
    "print(len(train_users_dict),len(train_users_history_lens))"
   ]
  },
  {
   "cell_type": "markdown",
   "metadata": {},
   "source": [
    "### setting for evaluation dataset"
   ]
  },
  {
   "cell_type": "code",
   "execution_count": 21,
   "metadata": {},
   "outputs": [
    {
     "name": "stdout",
     "output_type": "stream",
     "text": [
      "1208 3953\n"
     ]
    }
   ],
   "source": [
    "eval_users_num = int(users_num * 0.2)\n",
    "eval_items_num = items_num\n",
    "print(eval_users_num, eval_items_num)"
   ]
  },
  {
   "cell_type": "code",
   "execution_count": 22,
   "metadata": {},
   "outputs": [
    {
     "name": "stdout",
     "output_type": "stream",
     "text": [
      "1208 1208\n"
     ]
    }
   ],
   "source": [
    "eval_users_dict = {k:users_dict[k] for k in range(users_num-eval_users_num, users_num)}\n",
    "eval_users_history_lens = users_history_lens[-eval_users_num:]\n",
    "print(len(eval_users_dict),len(eval_users_history_lens))"
   ]
  },
  {
   "cell_type": "markdown",
   "metadata": {},
   "source": [
    "### the variables are ready\n",
    "- users_dict\n",
    "- users_history_len\n",
    "- movies_id_to_movies\n",
    "- users_num\n",
    "- items_num"
   ]
  },
  {
   "cell_type": "markdown",
   "metadata": {},
   "source": [
    "# Evalutation"
   ]
  },
  {
   "cell_type": "code",
   "execution_count": 23,
   "metadata": {},
   "outputs": [],
   "source": [
    "def evaluate(recommender, env, check_movies = False, top_k=False):\n",
    "\n",
    "    # episodic reward\n",
    "    episode_reward = 0\n",
    "    steps = 0\n",
    "    mean_precision = 0\n",
    "    mean_ndcg = 0\n",
    "    # Environment\n",
    "    user_id, items_ids, done = env.reset()\n",
    "    if check_movies:\n",
    "        print(f'user_id : {user_id}, rated_items_length:{len(env.user_items)}')\n",
    "        print('history items : \\n', np.array(env.get_items_names(items_ids)))\n",
    "\n",
    "    while not done:\n",
    "\n",
    "        # Observe current state & Find action\n",
    "        ## Embedding \n",
    "        user_eb = recommender.embedding_network.get_layer('user_embedding')(np.array(user_id))\n",
    "        items_eb = recommender.embedding_network.get_layer('movie_embedding')(np.array(items_ids))\n",
    "        ## SRM\n",
    "        state = recommender.srm_ave([np.expand_dims(user_eb, axis=0), np.expand_dims(items_eb, axis=0)])\n",
    "        ## Action(ranking score) \n",
    "        action = recommender.actor.network(state)\n",
    "        ## Item \n",
    "        recommended_item = recommender.recommend_item(action, env.recommended_items, top_k=top_k)\n",
    "        if check_movies:\n",
    "            print(f'recommended items ids : {recommended_item}')\n",
    "            print(f'recommened items : \\n {np.array(env.get_items_names(recommended_item), dtype=object)}')\n",
    "        # Calculate reward & observe new state (in env)\n",
    "        ## Step\n",
    "        next_items_ids, reward, done, _ = env.step(recommended_item, top_k=top_k)\n",
    "        if top_k:\n",
    "            correct_list = [1 if r > 0 else 0 for r in reward]\n",
    "            # ndcg\n",
    "            dcg, idcg = calculate_ndcg(correct_list, [1 for _ in range(len(reward))])\n",
    "            mean_ndcg += dcg/idcg\n",
    "            \n",
    "            #precision\n",
    "            correct_num = top_k-correct_list.count(0)\n",
    "            mean_precision += correct_num/top_k\n",
    "            \n",
    "        reward = np.sum(reward)\n",
    "        items_ids = next_items_ids\n",
    "        episode_reward += reward\n",
    "        steps += 1\n",
    "        \n",
    "        if check_movies:\n",
    "            print(f'precision : {correct_num/top_k}, dcg : {dcg:0.3f}, idcg : {idcg:0.3f}, ndcg : {dcg/idcg:0.3f}, reward : {reward}')\n",
    "            print()\n",
    "        break\n",
    "    \n",
    "    if check_movies:\n",
    "        print(f'precision : {mean_precision/steps}, ngcg : {mean_ndcg/steps}, episode_reward : {episode_reward}')\n",
    "        print()\n",
    "    \n",
    "    return mean_precision/steps, mean_ndcg/steps\n",
    "\n",
    "def calculate_ndcg(rel, irel):\n",
    "    dcg = 0\n",
    "    idcg = 0\n",
    "    rel = [1 if r>0 else 0 for r in rel]\n",
    "    for i, (r, ir) in enumerate(zip(rel, irel)):\n",
    "        dcg += (r)/np.log2(i+2)\n",
    "        idcg += (ir)/np.log2(i+2)\n",
    "    return dcg, idcg"
   ]
  },
  {
   "cell_type": "code",
   "execution_count": 24,
   "metadata": {},
   "outputs": [],
   "source": [
    "# get the saved model dir\n",
    "saved_actor = './save_model/trail-2022-12-13-04/actor_10_fixed.h5'\n",
    "saved_critic = './save_model/trail-2022-12-13-04/critic_10_fixed.h5'"
   ]
  },
  {
   "cell_type": "code",
   "execution_count": 25,
   "metadata": {},
   "outputs": [],
   "source": [
    "tf.keras.backend.set_floatx('float64')"
   ]
  },
  {
   "cell_type": "code",
   "execution_count": 26,
   "metadata": {},
   "outputs": [
    {
     "name": "stdout",
     "output_type": "stream",
     "text": [
      "Evaluating users: [4833, 4834, 4835, 4836, 4837, 4838, 4839, 4840, 4841, 4842, 4843]\n",
      "# of eval users: 1208\n"
     ]
    },
    {
     "name": "stderr",
     "output_type": "stream",
     "text": [
      "c:\\Users\\garvi\\anaconda3\\envs\\DRR\\lib\\site-packages\\keras\\src\\layers\\core\\input_layer.py:27: UserWarning: Argument `input_shape` is deprecated. Use `shape` instead.\n",
      "  warnings.warn(\n",
      "c:\\Users\\garvi\\anaconda3\\envs\\DRR\\lib\\site-packages\\keras\\src\\saving\\saving_lib.py:757: UserWarning: Skipping variable loading for optimizer 'adam', because it has 2 variables whereas the saved optimizer has 18 variables. \n",
      "  saveable.load_own_variables(weights_store.get(inner_path))\n"
     ]
    },
    {
     "name": "stdout",
     "output_type": "stream",
     "text": [
      "user_id : 5501, rated_items_length:561\n",
      "history items : \n",
      " [['Not in list']\n",
      " ['Not in list']\n",
      " ['Not in list']\n",
      " ['Not in list']\n",
      " ['Not in list']\n",
      " ['Not in list']\n",
      " ['Not in list']\n",
      " ['Not in list']\n",
      " ['Not in list']\n",
      " ['Not in list']]\n",
      "recommended items ids : [3424  912 2028  969 2716 1263 2863 2396 2791 1299]\n",
      "recommened items : \n",
      " [['Not in list']\n",
      " ['Not in list']\n",
      " ['Not in list']\n",
      " ['Not in list']\n",
      " ['Not in list']\n",
      " ['Not in list']\n",
      " ['Not in list']\n",
      " ['Not in list']\n",
      " ['Not in list']\n",
      " ['Not in list']]\n",
      "precision : 0.8, dcg : 3.909, idcg : 4.544, ndcg : 0.860, reward : 5.5\n",
      "\n",
      "precision : 0.8, ngcg : 0.8603818544462509, episode_reward : 5.5\n",
      "\n",
      "precision@10 : 0.0006622516556291391, ndcg@10 : 0.0007122366344753733\n",
      "user_id : 5501, rated_items_length:561\n",
      "history items : \n",
      " [['Not in list']\n",
      " ['Not in list']\n",
      " ['Not in list']\n",
      " ['Not in list']\n",
      " ['Not in list']\n",
      " ['Not in list']\n",
      " ['Not in list']\n",
      " ['Not in list']\n",
      " ['Not in list']\n",
      " ['Not in list']]\n",
      "recommended items ids : [3424  912 2028  969 2716 1263 2863 2396 2791 1299]\n",
      "recommened items : \n",
      " [['Not in list']\n",
      " ['Not in list']\n",
      " ['Not in list']\n",
      " ['Not in list']\n",
      " ['Not in list']\n",
      " ['Not in list']\n",
      " ['Not in list']\n",
      " ['Not in list']\n",
      " ['Not in list']\n",
      " ['Not in list']]\n",
      "precision : 0.8, dcg : 3.909, idcg : 4.544, ndcg : 0.860, reward : 5.5\n",
      "\n",
      "precision : 0.8, ngcg : 0.8603818544462509, episode_reward : 5.5\n",
      "\n",
      "precision@10 : 0.0013245033112582781, ndcg@10 : 0.0014244732689507465\n",
      "user_id : 5501, rated_items_length:561\n",
      "history items : \n",
      " [['Not in list']\n",
      " ['Not in list']\n",
      " ['Not in list']\n",
      " ['Not in list']\n",
      " ['Not in list']\n",
      " ['Not in list']\n",
      " ['Not in list']\n",
      " ['Not in list']\n",
      " ['Not in list']\n",
      " ['Not in list']]\n",
      "recommended items ids : [ 912 3424 2028  969 1263 2716 2863 2396 2791 1299]\n",
      "recommened items : \n",
      " [['Not in list']\n",
      " ['Not in list']\n",
      " ['Not in list']\n",
      " ['Not in list']\n",
      " ['Not in list']\n",
      " ['Not in list']\n",
      " ['Not in list']\n",
      " ['Not in list']\n",
      " ['Not in list']\n",
      " ['Not in list']]\n",
      "precision : 0.8, dcg : 3.909, idcg : 4.544, ndcg : 0.860, reward : 5.5\n",
      "\n",
      "precision : 0.8, ngcg : 0.8603818544462509, episode_reward : 5.5\n",
      "\n",
      "precision@10 : 0.0019867549668874177, ndcg@10 : 0.00213670990342612\n",
      "user_id : 5501, rated_items_length:561\n",
      "history items : \n",
      " [['Not in list']\n",
      " ['Not in list']\n",
      " ['Not in list']\n",
      " ['Not in list']\n",
      " ['Not in list']\n",
      " ['Not in list']\n",
      " ['Not in list']\n",
      " ['Not in list']\n",
      " ['Not in list']\n",
      " ['Not in list']]\n",
      "recommended items ids : [3424 2028  912 2716 1263  969 2863 2396 2791 1299]\n",
      "recommened items : \n",
      " [['Not in list']\n",
      " ['Not in list']\n",
      " ['Not in list']\n",
      " ['Not in list']\n",
      " ['Not in list']\n",
      " ['Not in list']\n",
      " ['Not in list']\n",
      " ['Not in list']\n",
      " ['Not in list']\n",
      " ['Not in list']]\n",
      "precision : 0.8, dcg : 3.909, idcg : 4.544, ndcg : 0.860, reward : 5.5\n",
      "\n",
      "precision : 0.8, ngcg : 0.8603818544462509, episode_reward : 5.5\n",
      "\n",
      "precision@10 : 0.0026490066225165563, ndcg@10 : 0.002848946537901493\n",
      "user_id : 5501, rated_items_length:561\n",
      "history items : \n",
      " [['Not in list']\n",
      " ['Not in list']\n",
      " ['Not in list']\n",
      " ['Not in list']\n",
      " ['Not in list']\n",
      " ['Not in list']\n",
      " ['Not in list']\n",
      " ['Not in list']\n",
      " ['Not in list']\n",
      " ['Not in list']]\n",
      "recommended items ids : [3424  912 2028 2716  969 1263 2863 2396 2791 1299]\n",
      "recommened items : \n",
      " [['Not in list']\n",
      " ['Not in list']\n",
      " ['Not in list']\n",
      " ['Not in list']\n",
      " ['Not in list']\n",
      " ['Not in list']\n",
      " ['Not in list']\n",
      " ['Not in list']\n",
      " ['Not in list']\n",
      " ['Not in list']]\n",
      "precision : 0.8, dcg : 3.909, idcg : 4.544, ndcg : 0.860, reward : 5.5\n",
      "\n",
      "precision : 0.8, ngcg : 0.8603818544462509, episode_reward : 5.5\n",
      "\n",
      "precision@10 : 0.0033112582781456954, ndcg@10 : 0.0035611831723768666\n",
      "user_id : 5501, rated_items_length:561\n",
      "history items : \n",
      " [['Not in list']\n",
      " ['Not in list']\n",
      " ['Not in list']\n",
      " ['Not in list']\n",
      " ['Not in list']\n",
      " ['Not in list']\n",
      " ['Not in list']\n",
      " ['Not in list']\n",
      " ['Not in list']\n",
      " ['Not in list']]\n",
      "recommended items ids : [3424  912 2028  969 2716 1263 2863 2396 2791 1299]\n",
      "recommened items : \n",
      " [['Not in list']\n",
      " ['Not in list']\n",
      " ['Not in list']\n",
      " ['Not in list']\n",
      " ['Not in list']\n",
      " ['Not in list']\n",
      " ['Not in list']\n",
      " ['Not in list']\n",
      " ['Not in list']\n",
      " ['Not in list']]\n",
      "precision : 0.8, dcg : 3.909, idcg : 4.544, ndcg : 0.860, reward : 5.5\n",
      "\n",
      "precision : 0.8, ngcg : 0.8603818544462509, episode_reward : 5.5\n",
      "\n",
      "precision@10 : 0.003973509933774834, ndcg@10 : 0.00427341980685224\n",
      "user_id : 5501, rated_items_length:561\n",
      "history items : \n",
      " [['Not in list']\n",
      " ['Not in list']\n",
      " ['Not in list']\n",
      " ['Not in list']\n",
      " ['Not in list']\n",
      " ['Not in list']\n",
      " ['Not in list']\n",
      " ['Not in list']\n",
      " ['Not in list']\n",
      " ['Not in list']]\n",
      "recommended items ids : [ 912 3424 2028  969 1263 2716 2863 2396 2791 1299]\n",
      "recommened items : \n",
      " [['Not in list']\n",
      " ['Not in list']\n",
      " ['Not in list']\n",
      " ['Not in list']\n",
      " ['Not in list']\n",
      " ['Not in list']\n",
      " ['Not in list']\n",
      " ['Not in list']\n",
      " ['Not in list']\n",
      " ['Not in list']]\n",
      "precision : 0.8, dcg : 3.909, idcg : 4.544, ndcg : 0.860, reward : 5.5\n",
      "\n",
      "precision : 0.8, ngcg : 0.8603818544462509, episode_reward : 5.5\n",
      "\n",
      "precision@10 : 0.004635761589403973, ndcg@10 : 0.004985656441327613\n",
      "user_id : 5501, rated_items_length:561\n",
      "history items : \n",
      " [['Not in list']\n",
      " ['Not in list']\n",
      " ['Not in list']\n",
      " ['Not in list']\n",
      " ['Not in list']\n",
      " ['Not in list']\n",
      " ['Not in list']\n",
      " ['Not in list']\n",
      " ['Not in list']\n",
      " ['Not in list']]\n",
      "recommended items ids : [3424  912 2028 2716  969 1263 2863 2396 2791 1299]\n",
      "recommened items : \n",
      " [['Not in list']\n",
      " ['Not in list']\n",
      " ['Not in list']\n",
      " ['Not in list']\n",
      " ['Not in list']\n",
      " ['Not in list']\n",
      " ['Not in list']\n",
      " ['Not in list']\n",
      " ['Not in list']\n",
      " ['Not in list']]\n",
      "precision : 0.8, dcg : 3.909, idcg : 4.544, ndcg : 0.860, reward : 5.5\n",
      "\n",
      "precision : 0.8, ngcg : 0.8603818544462509, episode_reward : 5.5\n",
      "\n",
      "precision@10 : 0.005298013245033112, ndcg@10 : 0.005697893075802986\n",
      "user_id : 5501, rated_items_length:561\n",
      "history items : \n",
      " [['Not in list']\n",
      " ['Not in list']\n",
      " ['Not in list']\n",
      " ['Not in list']\n",
      " ['Not in list']\n",
      " ['Not in list']\n",
      " ['Not in list']\n",
      " ['Not in list']\n",
      " ['Not in list']\n",
      " ['Not in list']]\n",
      "recommended items ids : [3424  912 2028  969 2716 1263 2863 2396 2791 1299]\n",
      "recommened items : \n",
      " [['Not in list']\n",
      " ['Not in list']\n",
      " ['Not in list']\n",
      " ['Not in list']\n",
      " ['Not in list']\n",
      " ['Not in list']\n",
      " ['Not in list']\n",
      " ['Not in list']\n",
      " ['Not in list']\n",
      " ['Not in list']]\n",
      "precision : 0.8, dcg : 3.909, idcg : 4.544, ndcg : 0.860, reward : 5.5\n",
      "\n",
      "precision : 0.8, ngcg : 0.8603818544462509, episode_reward : 5.5\n",
      "\n",
      "precision@10 : 0.005960264900662251, ndcg@10 : 0.006410129710278359\n",
      "user_id : 5501, rated_items_length:561\n",
      "history items : \n",
      " [['Not in list']\n",
      " ['Not in list']\n",
      " ['Not in list']\n",
      " ['Not in list']\n",
      " ['Not in list']\n",
      " ['Not in list']\n",
      " ['Not in list']\n",
      " ['Not in list']\n",
      " ['Not in list']\n",
      " ['Not in list']]\n",
      "recommended items ids : [3424  912 2028  969 2716 1263 2863 2396 2791 1299]\n",
      "recommened items : \n",
      " [['Not in list']\n",
      " ['Not in list']\n",
      " ['Not in list']\n",
      " ['Not in list']\n",
      " ['Not in list']\n",
      " ['Not in list']\n",
      " ['Not in list']\n",
      " ['Not in list']\n",
      " ['Not in list']\n",
      " ['Not in list']]\n",
      "precision : 0.8, dcg : 3.909, idcg : 4.544, ndcg : 0.860, reward : 5.5\n",
      "\n",
      "precision : 0.8, ngcg : 0.8603818544462509, episode_reward : 5.5\n",
      "\n",
      "precision@10 : 0.00662251655629139, ndcg@10 : 0.007122366344753733\n",
      "user_id : 5501, rated_items_length:561\n",
      "history items : \n",
      " [['Not in list']\n",
      " ['Not in list']\n",
      " ['Not in list']\n",
      " ['Not in list']\n",
      " ['Not in list']\n",
      " ['Not in list']\n",
      " ['Not in list']\n",
      " ['Not in list']\n",
      " ['Not in list']\n",
      " ['Not in list']]\n",
      "recommended items ids : [3424  912 2028  969 2716 1263 2863 2396 2791 1299]\n",
      "recommened items : \n",
      " [['Not in list']\n",
      " ['Not in list']\n",
      " ['Not in list']\n",
      " ['Not in list']\n",
      " ['Not in list']\n",
      " ['Not in list']\n",
      " ['Not in list']\n",
      " ['Not in list']\n",
      " ['Not in list']\n",
      " ['Not in list']]\n",
      "precision : 0.8, dcg : 3.909, idcg : 4.544, ndcg : 0.860, reward : 5.5\n",
      "\n",
      "precision : 0.8, ngcg : 0.8603818544462509, episode_reward : 5.5\n",
      "\n"
     ]
    }
   ],
   "source": [
    "TOP_K = 10 # chose any k value as you want\n",
    "\n",
    "sum_precision = 0\n",
    "sum_ndcg = 0\n",
    "\n",
    "end_evaluation = 10\n",
    "\n",
    "print(f\"Evaluating users: {list(eval_users_dict.keys())[:end_evaluation+1]}\")\n",
    "print(f\"# of eval users: {len(eval_users_dict)}\")\n",
    "\n",
    "for i, user_id in enumerate(eval_users_dict.keys()):\n",
    "        env = OfflineEnv(eval_users_dict, users_history_lens, movies_id_to_movies, STATE_SIZE, fix_user_id=5501)\n",
    "        recommender = DRRAgent(env, users_num, items_num, STATE_SIZE)\n",
    "        recommender.actor.build_networks()\n",
    "        recommender.critic.build_networks()\n",
    "        recommender.load_model(\n",
    "        \"./save_model/fixed_trail/actor_fixed.weights.h5\",\n",
    "        \"./save_model/fixed_trail/critic_fixed.weights.h5\"\n",
    "        )\n",
    "        # recommender.load_model(saved_actor, saved_critic)\n",
    "        precision, ndcg = evaluate(recommender, env, check_movies=True, top_k=TOP_K) # if check movies is true, you can check the recommended movies\n",
    "        sum_precision += precision\n",
    "        sum_ndcg += ndcg\n",
    "        \n",
    "        if i >= end_evaluation:\n",
    "            break\n",
    "        \n",
    "        print(f'precision@{TOP_K} : {sum_precision/len(eval_users_dict)}, ndcg@{TOP_K} : {sum_ndcg/len(eval_users_dict)}')"
   ]
  },
  {
   "cell_type": "code",
   "execution_count": 27,
   "metadata": {},
   "outputs": [
    {
     "data": {
      "text/html": [
       "<div>\n",
       "<style scoped>\n",
       "    .dataframe tbody tr th:only-of-type {\n",
       "        vertical-align: middle;\n",
       "    }\n",
       "\n",
       "    .dataframe tbody tr th {\n",
       "        vertical-align: top;\n",
       "    }\n",
       "\n",
       "    .dataframe thead th {\n",
       "        text-align: right;\n",
       "    }\n",
       "</style>\n",
       "<table border=\"1\" class=\"dataframe\">\n",
       "  <thead>\n",
       "    <tr style=\"text-align: right;\">\n",
       "      <th></th>\n",
       "      <th>User ID</th>\n",
       "      <th>Precision@10</th>\n",
       "      <th>NDCG@10</th>\n",
       "    </tr>\n",
       "  </thead>\n",
       "  <tbody>\n",
       "    <tr>\n",
       "      <th>0</th>\n",
       "      <td>4833</td>\n",
       "      <td>0.6</td>\n",
       "      <td>0.645755</td>\n",
       "    </tr>\n",
       "    <tr>\n",
       "      <th>1</th>\n",
       "      <td>4834</td>\n",
       "      <td>0.5</td>\n",
       "      <td>0.460359</td>\n",
       "    </tr>\n",
       "    <tr>\n",
       "      <th>2</th>\n",
       "      <td>4835</td>\n",
       "      <td>0.3</td>\n",
       "      <td>0.208273</td>\n",
       "    </tr>\n",
       "    <tr>\n",
       "      <th>3</th>\n",
       "      <td>4836</td>\n",
       "      <td>0.2</td>\n",
       "      <td>0.158507</td>\n",
       "    </tr>\n",
       "    <tr>\n",
       "      <th>4</th>\n",
       "      <td>4837</td>\n",
       "      <td>0.2</td>\n",
       "      <td>0.129875</td>\n",
       "    </tr>\n",
       "    <tr>\n",
       "      <th>5</th>\n",
       "      <td>4838</td>\n",
       "      <td>0.0</td>\n",
       "      <td>0.000000</td>\n",
       "    </tr>\n",
       "    <tr>\n",
       "      <th>6</th>\n",
       "      <td>4839</td>\n",
       "      <td>0.0</td>\n",
       "      <td>0.000000</td>\n",
       "    </tr>\n",
       "    <tr>\n",
       "      <th>7</th>\n",
       "      <td>4840</td>\n",
       "      <td>0.1</td>\n",
       "      <td>0.085143</td>\n",
       "    </tr>\n",
       "    <tr>\n",
       "      <th>8</th>\n",
       "      <td>4841</td>\n",
       "      <td>0.4</td>\n",
       "      <td>0.349487</td>\n",
       "    </tr>\n",
       "    <tr>\n",
       "      <th>9</th>\n",
       "      <td>4842</td>\n",
       "      <td>0.3</td>\n",
       "      <td>0.199306</td>\n",
       "    </tr>\n",
       "    <tr>\n",
       "      <th>10</th>\n",
       "      <td>4843</td>\n",
       "      <td>0.2</td>\n",
       "      <td>0.195189</td>\n",
       "    </tr>\n",
       "    <tr>\n",
       "      <th>11</th>\n",
       "      <td>4844</td>\n",
       "      <td>0.1</td>\n",
       "      <td>0.094788</td>\n",
       "    </tr>\n",
       "    <tr>\n",
       "      <th>12</th>\n",
       "      <td>4845</td>\n",
       "      <td>0.3</td>\n",
       "      <td>0.203239</td>\n",
       "    </tr>\n",
       "    <tr>\n",
       "      <th>13</th>\n",
       "      <td>4846</td>\n",
       "      <td>0.1</td>\n",
       "      <td>0.066254</td>\n",
       "    </tr>\n",
       "    <tr>\n",
       "      <th>14</th>\n",
       "      <td>4847</td>\n",
       "      <td>0.2</td>\n",
       "      <td>0.148764</td>\n",
       "    </tr>\n",
       "  </tbody>\n",
       "</table>\n",
       "</div>"
      ],
      "text/plain": [
       "    User ID  Precision@10   NDCG@10\n",
       "0      4833           0.6  0.645755\n",
       "1      4834           0.5  0.460359\n",
       "2      4835           0.3  0.208273\n",
       "3      4836           0.2  0.158507\n",
       "4      4837           0.2  0.129875\n",
       "5      4838           0.0  0.000000\n",
       "6      4839           0.0  0.000000\n",
       "7      4840           0.1  0.085143\n",
       "8      4841           0.4  0.349487\n",
       "9      4842           0.3  0.199306\n",
       "10     4843           0.2  0.195189\n",
       "11     4844           0.1  0.094788\n",
       "12     4845           0.3  0.203239\n",
       "13     4846           0.1  0.066254\n",
       "14     4847           0.2  0.148764"
      ]
     },
     "metadata": {},
     "output_type": "display_data"
    }
   ],
   "source": [
    "TOP_K = 10\n",
    "sum_precision = 0\n",
    "sum_ndcg = 0\n",
    "\n",
    "\n",
    "end_evaluation = 15\n",
    "\n",
    "eval_user_ids = list(eval_users_dict.keys())[:end_evaluation]\n",
    "\n",
    "results = []\n",
    "\n",
    "for i, user_id in enumerate(eval_user_ids):\n",
    "    env = OfflineEnv(eval_users_dict, users_history_lens, movies_id_to_movies, STATE_SIZE, fix_user_id=user_id)\n",
    "    recommender = DRRAgent(env, users_num, items_num, STATE_SIZE)\n",
    "    recommender.actor.build_networks()\n",
    "    recommender.critic.build_networks()\n",
    "    recommender.load_model(\n",
    "        \"./save_model/fixed_trail/actor_fixed.weights.h5\",\n",
    "        \"./save_model/fixed_trail/critic_fixed.weights.h5\"\n",
    "    )\n",
    "    # Precision - % of time user liked the recommendation\n",
    "    # Reward - -ve (wrt to actions suggested)\n",
    "    # ndcg - right items in the top k positions (low - not ranked well)\n",
    "    precision, ndcg = evaluate(recommender, env, check_movies=False, top_k=TOP_K)\n",
    "    results.append((user_id, precision, ndcg))\n",
    "\n",
    "# Show results in a clean table\n",
    "import pandas as pd\n",
    "df = pd.DataFrame(results, columns=[\"User ID\", \"Precision@10\", \"NDCG@10\"])\n",
    "display(df)\n"
   ]
  },
  {
   "cell_type": "code",
   "execution_count": 28,
   "metadata": {},
   "outputs": [
    {
     "data": {
      "image/png": "[encoded data removed]",
      "text/plain": [
       "<Figure size 1000x600 with 1 Axes>"
      ]
     },
     "metadata": {},
     "output_type": "display_data"
    }
   ],
   "source": [
    "TOP_N = 15  # change to any number\n",
    "\n",
    "# Sort by precision or NDCG\n",
    "top_users = df\n",
    "\n",
    "# Plot\n",
    "import matplotlib.pyplot as plt\n",
    "\n",
    "plt.figure(figsize=(10, 6))\n",
    "plt.bar(top_users[\"User ID\"].astype(str), top_users[\"Precision@10\"], color='skyblue')\n",
    "plt.title(f\"Top {TOP_N} Recommedations by Precision@10\")\n",
    "plt.xlabel(\"User ID\")\n",
    "plt.ylabel(\"Precision@10\")\n",
    "plt.grid(axis='y')\n",
    "plt.tight_layout()\n",
    "plt.show()"
   ]
  },
  {
   "cell_type": "code",
   "execution_count": 29,
   "metadata": {},
   "outputs": [
    {
     "data": {
      "image/png": "[encoded data removed]",
      "text/plain": [
       "<Figure size 600x600 with 1 Axes>"
      ]
     },
     "metadata": {},
     "output_type": "display_data"
    }
   ],
   "source": [
    "TOP_N = 15  # change to any number\n",
    "\n",
    "# Sort by precision or NDCG\n",
    "top_users = df\n",
    "\n",
    "plt.figure(figsize=(6, 6))\n",
    "plt.scatter(df[\"Precision@10\"], df[\"NDCG@10\"], color=\"purple\", alpha=0.7)\n",
    "plt.title(\"Precision@10 vs NDCG@10\")\n",
    "plt.xlabel(\"Precision@10\")\n",
    "plt.ylabel(\"NDCG@10\")\n",
    "plt.grid(True)\n",
    "plt.tight_layout()\n",
    "plt.show()\n"
   ]
  },
  {
   "cell_type": "code",
   "execution_count": null,
   "metadata": {},
   "outputs": [
    {
     "name": "stderr",
     "output_type": "stream",
     "text": [
      "c:\\Users\\garvi\\anaconda3\\envs\\DRR\\lib\\site-packages\\keras\\src\\layers\\core\\input_layer.py:27: UserWarning: Argument `input_shape` is deprecated. Use `shape` instead.\n",
      "  warnings.warn(\n",
      "c:\\Users\\garvi\\anaconda3\\envs\\DRR\\lib\\site-packages\\keras\\src\\saving\\saving_lib.py:757: UserWarning: Skipping variable loading for optimizer 'adam', because it has 2 variables whereas the saved optimizer has 18 variables. \n",
      "  saveable.load_own_variables(weights_store.get(inner_path))\n"
     ]
    },
    {
     "ename": "AttributeError",
     "evalue": "'DRRAgent' object has no attribute 'reset'",
     "output_type": "error",
     "traceback": [
      "\u001b[1;31m---------------------------------------------------------------------------\u001b[0m",
      "\u001b[1;31mAttributeError\u001b[0m                            Traceback (most recent call last)",
      "Cell \u001b[1;32mIn[30], line 15\u001b[0m\n\u001b[0;32m      9\u001b[0m     recommender\u001b[38;5;241m.\u001b[39mcritic\u001b[38;5;241m.\u001b[39mbuild_networks()\n\u001b[0;32m     10\u001b[0m     recommender\u001b[38;5;241m.\u001b[39mload_model(\n\u001b[0;32m     11\u001b[0m         \u001b[38;5;124m\"\u001b[39m\u001b[38;5;124m./save_model/fixed_trail/actor_fixed.weights.h5\u001b[39m\u001b[38;5;124m\"\u001b[39m,\n\u001b[0;32m     12\u001b[0m         \u001b[38;5;124m\"\u001b[39m\u001b[38;5;124m./save_model/fixed_trail/critic_fixed.weights.h5\u001b[39m\u001b[38;5;124m\"\u001b[39m\n\u001b[0;32m     13\u001b[0m     )\n\u001b[1;32m---> 15\u001b[0m     precision, ndcg, recommended_titles \u001b[38;5;241m=\u001b[39m \u001b[43mevaluate\u001b[49m\u001b[43m(\u001b[49m\u001b[43menv\u001b[49m\u001b[43m,\u001b[49m\u001b[43m \u001b[49m\u001b[43mrecommender\u001b[49m\u001b[43m,\u001b[49m\u001b[43m \u001b[49m\u001b[43mmovies_id_to_movies\u001b[49m\u001b[43m,\u001b[49m\u001b[43m \u001b[49m\u001b[43mtop_k\u001b[49m\u001b[38;5;241;43m=\u001b[39;49m\u001b[43mTOP_K\u001b[49m\u001b[43m)\u001b[49m\n\u001b[0;32m     16\u001b[0m     results\u001b[38;5;241m.\u001b[39mappend((user_id, precision, ndcg, recommended_titles))\n\u001b[0;32m     19\u001b[0m \u001b[38;5;28;01mimport\u001b[39;00m\u001b[38;5;250m \u001b[39m\u001b[38;5;21;01mpandas\u001b[39;00m\u001b[38;5;250m \u001b[39m\u001b[38;5;28;01mas\u001b[39;00m\u001b[38;5;250m \u001b[39m\u001b[38;5;21;01mpd\u001b[39;00m\n",
      "Cell \u001b[1;32mIn[23], line 9\u001b[0m, in \u001b[0;36mevaluate\u001b[1;34m(recommender, env, check_movies, top_k)\u001b[0m\n\u001b[0;32m      7\u001b[0m mean_ndcg \u001b[38;5;241m=\u001b[39m \u001b[38;5;241m0\u001b[39m\n\u001b[0;32m      8\u001b[0m \u001b[38;5;66;03m# Environment 리셋\u001b[39;00m\n\u001b[1;32m----> 9\u001b[0m user_id, items_ids, done \u001b[38;5;241m=\u001b[39m \u001b[43menv\u001b[49m\u001b[38;5;241;43m.\u001b[39;49m\u001b[43mreset\u001b[49m()\n\u001b[0;32m     10\u001b[0m \u001b[38;5;28;01mif\u001b[39;00m check_movies:\n\u001b[0;32m     11\u001b[0m     \u001b[38;5;28mprint\u001b[39m(\u001b[38;5;124mf\u001b[39m\u001b[38;5;124m'\u001b[39m\u001b[38;5;124muser_id : \u001b[39m\u001b[38;5;132;01m{\u001b[39;00muser_id\u001b[38;5;132;01m}\u001b[39;00m\u001b[38;5;124m, rated_items_length:\u001b[39m\u001b[38;5;132;01m{\u001b[39;00m\u001b[38;5;28mlen\u001b[39m(env\u001b[38;5;241m.\u001b[39muser_items)\u001b[38;5;132;01m}\u001b[39;00m\u001b[38;5;124m'\u001b[39m)\n",
      "\u001b[1;31mAttributeError\u001b[0m: 'DRRAgent' object has no attribute 'reset'"
     ]
    }
   ],
   "source": [
    "# TOP_K = 10\n",
    "# results = []\n",
    "# eval_user_ids = list(eval_users_dict.keys())[:10]\n",
    "\n",
    "# for i, user_id in enumerate(eval_user_ids):\n",
    "#     env = OfflineEnv(eval_users_dict, users_history_lens, movies_id_to_movies, STATE_SIZE, fix_user_id=user_id)\n",
    "#     recommender = DRRAgent(env, users_num, items_num, STATE_SIZE)\n",
    "#     recommender.actor.build_networks()\n",
    "#     recommender.critic.build_networks()\n",
    "#     recommender.load_model(\n",
    "#         \"./save_model/fixed_trail/actor_fixed.weights.h5\",\n",
    "#         \"./save_model/fixed_trail/critic_fixed.weights.h5\"\n",
    "#     )\n",
    "\n",
    "#     precision, ndcg, recommended_titles = evaluate(env, recommender, movies_id_to_movies, top_k=TOP_K)\n",
    "#     results.append((user_id, precision, ndcg, recommended_titles))\n",
    "\n",
    "\n",
    "# import pandas as pd\n",
    "\n",
    "# df = pd.DataFrame(results, columns=[\"User ID\", \"Precision@10\", \"NDCG@10\", \"Recommended Movies\"])\n",
    "# pd.set_option(\"display.max_colwidth\", None)\n",
    "# display(df)"
   ]
  }
 ],
 "metadata": {
  "colab": {
   "collapsed_sections": [],
   "include_colab_link": true,
   "machine_shape": "hm",
   "name": "RL_ActorCritic_DDPG_Movie_Recommendation.ipynb",
   "provenance": []
  },
  "kernelspec": {
   "display_name": "DRR",
   "language": "python",
   "name": "python3"
  },
  "language_info": {
   "codemirror_mode": {
    "name": "ipython",
    "version": 3
   },
   "file_extension": ".py",
   "mimetype": "text/x-python",
   "name": "python",
   "nbconvert_exporter": "python",
   "pygments_lexer": "ipython3",
   "version": "3.10.16"
  }
 },
 "nbformat": 4,
 "nbformat_minor": 4
}
